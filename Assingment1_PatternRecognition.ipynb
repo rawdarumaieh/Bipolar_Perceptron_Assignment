{
 "cells": [
  {
   "cell_type": "markdown",
   "metadata": {},
   "source": [
    "## Pattern Recognition - Assignment 1"
   ]
  },
  {
   "cell_type": "markdown",
   "metadata": {},
   "source": [
    "### Importing libraries "
   ]
  },
  {
   "cell_type": "code",
   "execution_count": 2,
   "metadata": {},
   "outputs": [],
   "source": [
    "import numpy as np\n",
    "import random\n",
    "from numpy import sign\n",
    "import sklearn\n",
    "from sklearn.model_selection import train_test_split\n",
    "from sklearn import *\n",
    "import matplotlib.pyplot as plt\n",
    "import sys\n",
    "from sklearn.metrics import accuracy_score"
   ]
  },
  {
   "cell_type": "markdown",
   "metadata": {},
   "source": [
    "### Batch Training Algorithm"
   ]
  },
  {
   "cell_type": "code",
   "execution_count": 16,
   "metadata": {},
   "outputs": [],
   "source": [
    "def batchTrainingAlgo(x,y,weights, LR = 1):\n",
    "    counter=0\n",
    "    n = int(x.shape[1]) # number of features + bias\n",
    "    datalength=len(x) # number of data points\n",
    "    delta=np.ones(n) # delta array initialized with ones to be able to enter the while loop\n",
    "    delta_plot = []  # Array to fill in the updated deltas, to be able to plot them later\n",
    "    wArray=[]        # Array to fill in all weights \n",
    "    epochs = 0      # Initialize epochs variable before entering loop \n",
    "    eps = sys.float_info.epsilon\n",
    "    while (np.linalg.norm(delta,1)>eps): # Checking that the norm of delta is greater than epsilon \n",
    "        delta= np.zeros(n) # redefining delta to be an array of zeros of size n \n",
    "        epochs +=1\n",
    "        for i in range(datalength): # for each point\n",
    "            xDotw=weights.dot(x[i])  \n",
    "            prediction=y[i]*xDotw    # Checking label sign matches X.W\n",
    "            if prediction <=0:\n",
    "                delta=delta-(x[i]*y[i])   # Updating delta\n",
    "        delta = delta/datalength  \n",
    "        weights = weights - (LR * delta)\n",
    "        counter+=1     # Increment this counter that represents steps needed to update model weights\n",
    "        wArray.append(weights) # All weights \n",
    "        delta_plot.append(np.linalg.norm(delta,1))  # Appending updated delta to an array to be plotted later\n",
    "    return counter,weights, epochs,delta_plot"
   ]
  },
  {
   "cell_type": "markdown",
   "metadata": {},
   "source": [
    "### Online Training Algorithm"
   ]
  },
  {
   "cell_type": "code",
   "execution_count": 8,
   "metadata": {},
   "outputs": [],
   "source": [
    "def onlineTraningAlgo(x,y,weights, LR = 1):\n",
    "    counter=0\n",
    "    n = int(x.shape[1]) # number of features + bias\n",
    "    datalength=len(x) # number of data points\n",
    "    delta=np.ones(n) # delta array initialized with ones to be able to enter the while loop\n",
    "    delta_plot =[]   # Array to fill in the updated deltas, to be able to plot them later\n",
    "    wArray=[]        # Array to fill in all weights \n",
    "    epochs = 0      # Initialize epochs variable before entering loop \n",
    "    eps = sys.float_info.epsilon\n",
    "    while (np.linalg.norm(delta,1)>eps): # Checking that the norm of delta is greater than epsilon \n",
    "        delta= np.zeros(n) # redefining delta to be an array of zeros of size n \n",
    "        epochs +=1\n",
    "        for i in range(datalength): # for each point\n",
    "            xDotw=weights.dot(x[i])  \n",
    "            prediction=y[i]*xDotw    # Checking label sign matches X.W\n",
    "            if prediction <=0: \n",
    "                counter+=1          # Increment this counter that represents steps needed to update model weights\n",
    "                delta=delta-(x[i]*y[i]) # Updating delta\n",
    "                delta = delta/datalength\n",
    "                weights = weights - (LR * delta)\n",
    "                wArray.append(weights) # All weights \n",
    "        delta_plot.append(np.linalg.norm(delta,1))  # Appending updated delta to an array to be plotted later\n",
    "    return counter,weights, epochs,delta_plot"
   ]
  },
  {
   "cell_type": "code",
   "execution_count": 4,
   "metadata": {},
   "outputs": [],
   "source": [
    "# Question 1 Data\n",
    "xInput = np.array([[50,55,70,80,130,150,155,160],[1,1,1,1,1,1,1,1]]).T\n",
    "yInput=np.array([1,1,1,1,-1,-1,-1,-1])\n",
    "weights=np.array([random.uniform(-1,1)]*xInput.shape[1])  # Adding random weights"
   ]
  },
  {
   "cell_type": "markdown",
   "metadata": {},
   "source": [
    "### Testing Question 1 *(Online Training)*"
   ]
  },
  {
   "cell_type": "code",
   "execution_count": 5,
   "metadata": {
    "scrolled": true
   },
   "outputs": [
    {
     "name": "stdout",
     "output_type": "stream",
     "text": [
      "Online Training\n",
      "Steps: 175 Weights: [-0.08357636  9.9293631 ] Epochs: 58\n",
      "Online Output\n",
      "1.0\n",
      "1.0\n",
      "1.0\n",
      "1.0\n",
      "-1.0\n",
      "-1.0\n",
      "-1.0\n",
      "-1.0\n"
     ]
    }
   ],
   "source": [
    "steps,W, epochs, d_plot=onlineTraningAlgo(xInput,yInput,weights)\n",
    "print(\"Online Training\")\n",
    "print(\"Steps:\",steps,\"Weights:\",W,\"Epochs:\",epochs)\n",
    "print(\"Online Output\")\n",
    "test = np.array([[80,160],[1,1]]).T\n",
    "for x in xInput:\n",
    "    print(sign(W.dot(x)))"
   ]
  },
  {
   "cell_type": "code",
   "execution_count": 6,
   "metadata": {
    "scrolled": true
   },
   "outputs": [
    {
     "data": {
      "text/plain": [
       "[<matplotlib.lines.Line2D at 0x25963465ef0>]"
      ]
     },
     "execution_count": 6,
     "metadata": {},
     "output_type": "execute_result"
    },
    {
     "data": {
      "image/png": "[encoded data removed]",
      "text/plain": [
       "<Figure size 432x288 with 1 Axes>"
      ]
     },
     "metadata": {},
     "output_type": "display_data"
    }
   ],
   "source": [
    "# Online Training delta plot\n",
    "plt.plot(d_plot)"
   ]
  },
  {
   "cell_type": "markdown",
   "metadata": {},
   "source": [
    "#### Removing points from data & let the model predict"
   ]
  },
  {
   "cell_type": "code",
   "execution_count": 7,
   "metadata": {},
   "outputs": [
    {
     "name": "stdout",
     "output_type": "stream",
     "text": [
      "Online Testing\n",
      "1.0\n",
      "-1.0\n"
     ]
    }
   ],
   "source": [
    "# Question 1 Data but removed first and last point\n",
    "xTest = np.array([[55,70,80,130,150,155],[1,1,1,1,1,1]]).T\n",
    "yTest =np.array([1,1,1,-1,-1,-1])\n",
    "weights_test=np.array([random.uniform(-1,1)]*xTest.shape[1])  # Adding random weights\n",
    "steps,W, epochs, d_plot=onlineTraningAlgo(xTest,yTest,weights_test)\n",
    "print(\"Online Testing\")\n",
    "test = np.array([[50,160],[1,1]]).T\n",
    "for x in test:\n",
    "    print(sign(W.dot(x)))\n",
    "# Output should be 1 and -1"
   ]
  },
  {
   "cell_type": "markdown",
   "metadata": {},
   "source": [
    "### Testing Question 1 *(Batch Training)*"
   ]
  },
  {
   "cell_type": "code",
   "execution_count": 8,
   "metadata": {
    "scrolled": true
   },
   "outputs": [
    {
     "name": "stdout",
     "output_type": "stream",
     "text": [
      "Batch Training...\n",
      "Steps: 2651 Weights: [ -6.16511933 529.95988067] Epochs: 2651\n",
      "Batch Output\n",
      "1.0\n",
      "1.0\n",
      "1.0\n",
      "1.0\n",
      "-1.0\n",
      "-1.0\n",
      "-1.0\n",
      "-1.0\n"
     ]
    }
   ],
   "source": [
    "steps,W,epochs,d_plot = batchTrainingAlgo(xInput,yInput,weights)\n",
    "print(\"Batch Training...\")\n",
    "print(\"Steps:\",steps,\"Weights:\",W,\"Epochs:\",epochs)\n",
    "print(\"Batch Output\")\n",
    "for x in xInput:\n",
    "    print(sign(W.dot(x)))\n"
   ]
  },
  {
   "cell_type": "code",
   "execution_count": 9,
   "metadata": {},
   "outputs": [
    {
     "data": {
      "text/plain": [
       "[<matplotlib.lines.Line2D at 0x2596372e668>]"
      ]
     },
     "execution_count": 9,
     "metadata": {},
     "output_type": "execute_result"
    },
    {
     "data": {
      "image/png": "[encoded data removed]",
      "text/plain": [
       "<Figure size 432x288 with 1 Axes>"
      ]
     },
     "metadata": {},
     "output_type": "display_data"
    }
   ],
   "source": [
    "# Batch Training delta plot\n",
    "plt.plot(d_plot)"
   ]
  },
  {
   "cell_type": "markdown",
   "metadata": {},
   "source": [
    "#### Removing points from data & let the model predict"
   ]
  },
  {
   "cell_type": "code",
   "execution_count": 11,
   "metadata": {},
   "outputs": [
    {
     "name": "stdout",
     "output_type": "stream",
     "text": [
      "Batch Testing\n",
      "1.0\n",
      "-1.0\n"
     ]
    }
   ],
   "source": [
    "# Question 1 Data but removed first and last point\n",
    "xTest = np.array([[55,70,80,130,150,155],[1,1,1,1,1,1]]).T\n",
    "yTest =np.array([1,1,1,-1,-1,-1])\n",
    "weights=np.array([random.uniform(-1,1)]*xTest.shape[1])  # Adding random weights\n",
    "steps,W, epochs, d_plot=batchTrainingAlgo(xTest,yTest,weights)\n",
    "print(\"Batch Testing\")\n",
    "test = np.array([[80,160],[1,1]]).T\n",
    "for x in test:\n",
    "    print(sign(W.dot(x)))\n",
    "# Output should be 1 and -1"
   ]
  },
  {
   "cell_type": "markdown",
   "metadata": {},
   "source": [
    "### Question 4 Data"
   ]
  },
  {
   "cell_type": "code",
   "execution_count": 54,
   "metadata": {},
   "outputs": [],
   "source": [
    "xInput = np.array([[0,255,0,0,255,0,255,255],[0,0,255,0,255,255,0,255],[0,0,0,255,0,255,255,255],[1,1,1,1,1,1,1,1]]).T\n",
    "yInput=np.array([1,1,1,-1,1,-1,-1,1])\n",
    "weights=np.array([random.uniform(-1,1)]*xInput.shape[1])"
   ]
  },
  {
   "cell_type": "markdown",
   "metadata": {},
   "source": [
    "### Testing Question 4 (Online Training)"
   ]
  },
  {
   "cell_type": "code",
   "execution_count": 57,
   "metadata": {},
   "outputs": [
    {
     "name": "stdout",
     "output_type": "stream",
     "text": [
      "Online Training\n",
      "Steps: 9 Weights: [ 31.919965    31.41413614 -40.86491659   0.1222088 ] Epochs: 5\n",
      "Online Output\n",
      "1.0\n",
      "1.0\n",
      "1.0\n",
      "-1.0\n",
      "1.0\n",
      "-1.0\n",
      "-1.0\n",
      "1.0\n"
     ]
    }
   ],
   "source": [
    "steps,W, epochs,d_plot=onlineTraningAlgo(xInput,yInput,weights)\n",
    "\n",
    "print(\"Online Training\")\n",
    "print(\"Steps:\",steps,\"Weights:\",W,\"Epochs:\",epochs)\n",
    "print(\"Online Output\")\n",
    "for x in xInput:\n",
    "    print(sign(W.dot(x)))  # Similar to Y"
   ]
  },
  {
   "cell_type": "code",
   "execution_count": 58,
   "metadata": {
    "scrolled": false
   },
   "outputs": [
    {
     "name": "stdout",
     "output_type": "stream",
     "text": [
      "[86.83789443969727, 0.125, 0.125, 0.125, 0.0]\n"
     ]
    },
    {
     "data": {
      "text/plain": [
       "[<matplotlib.lines.Line2D at 0x2596495c7b8>]"
      ]
     },
     "execution_count": 58,
     "metadata": {},
     "output_type": "execute_result"
    },
    {
     "data": {
      "image/png": "[encoded data removed]",
      "text/plain": [
       "<Figure size 432x288 with 1 Axes>"
      ]
     },
     "metadata": {},
     "output_type": "display_data"
    }
   ],
   "source": [
    "print(d_plot)\n",
    "plt.plot(d_plot)"
   ]
  },
  {
   "cell_type": "markdown",
   "metadata": {},
   "source": [
    "### Testing Question 4 (Batch Training)"
   ]
  },
  {
   "cell_type": "code",
   "execution_count": 59,
   "metadata": {},
   "outputs": [
    {
     "name": "stdout",
     "output_type": "stream",
     "text": [
      "Batch Training\n",
      "Steps: 6 Weights: [ 63.22688028  63.22688028 -64.27311972   0.10188028] Epochs: 6\n",
      "Batch Output\n",
      "1.0\n",
      "1.0\n",
      "1.0\n",
      "-1.0\n",
      "1.0\n",
      "-1.0\n",
      "-1.0\n",
      "1.0\n"
     ]
    }
   ],
   "source": [
    "steps,W,epochs,d_plot = batchTrainingAlgo(xInput,yInput,weights)\n",
    "print(\"Batch Training\")\n",
    "print(\"Steps:\",steps,\"Weights:\",W,\"Epochs:\",epochs)\n",
    "print(\"Batch Output\")\n",
    "for x in xInput:\n",
    "    print(sign(W.dot(x)))\n"
   ]
  },
  {
   "cell_type": "code",
   "execution_count": 60,
   "metadata": {},
   "outputs": [
    {
     "name": "stdout",
     "output_type": "stream",
     "text": [
      "[223.75, 159.75, 0.125, 0.125, 0.125, 0.0]\n"
     ]
    },
    {
     "data": {
      "text/plain": [
       "[<matplotlib.lines.Line2D at 0x259649b5908>]"
      ]
     },
     "execution_count": 60,
     "metadata": {},
     "output_type": "execute_result"
    },
    {
     "data": {
      "image/png": "[encoded data removed]",
      "text/plain": [
       "<Figure size 432x288 with 1 Axes>"
      ]
     },
     "metadata": {},
     "output_type": "display_data"
    }
   ],
   "source": [
    "print(d_plot)\n",
    "plt.plot(d_plot)"
   ]
  },
  {
   "cell_type": "markdown",
   "metadata": {},
   "source": [
    "## Generated Data "
   ]
  },
  {
   "cell_type": "code",
   "execution_count": 34,
   "metadata": {
    "scrolled": true
   },
   "outputs": [
    {
     "data": {
      "text/plain": [
       "<matplotlib.collections.PathCollection at 0x1618de9e070>"
      ]
     },
     "execution_count": 34,
     "metadata": {},
     "output_type": "execute_result"
    },
    {
     "data": {
      "image/png": "[encoded data removed]",
      "text/plain": [
       "<Figure size 648x360 with 1 Axes>"
      ]
     },
     "metadata": {
      "needs_background": "light"
     },
     "output_type": "display_data"
    }
   ],
   "source": [
    "x,y=sklearn.datasets.make_classification(25, n_features=2, n_redundant=0, n_informative=1, n_clusters_per_class=1)\n",
    "mask_for_y=y==0\n",
    "y[mask_for_y]=-1\n",
    "plt.figure(figsize=(9, 5))\n",
    "plt.scatter(x[:,0],x[:,1],marker='o',c=y,s=25,edgecolor='k')"
   ]
  },
  {
   "cell_type": "markdown",
   "metadata": {},
   "source": [
    "### Splitting the data into training and testing"
   ]
  },
  {
   "cell_type": "code",
   "execution_count": 35,
   "metadata": {},
   "outputs": [],
   "source": [
    "X_train, X_test, y_train, y_test = train_test_split(x, y, test_size = 0.25, random_state = 0)"
   ]
  },
  {
   "cell_type": "code",
   "execution_count": 36,
   "metadata": {},
   "outputs": [],
   "source": [
    "# Generating random weights & running the online training model on data\n",
    "weights=np.array([random.uniform(-1,1)]*x.shape[1])\n",
    "steps,W, epochs,d_plot=onlineTraningAlgo(X_train,y_train,weights)"
   ]
  },
  {
   "cell_type": "code",
   "execution_count": 37,
   "metadata": {},
   "outputs": [
    {
     "name": "stdout",
     "output_type": "stream",
     "text": [
      "Steps: 15 Weights: [-0.08735753  0.33011538] Epochs: 3\n"
     ]
    }
   ],
   "source": [
    "print(\"Steps:\",steps,\"Weights:\",W,\"Epochs:\",epochs)"
   ]
  },
  {
   "cell_type": "code",
   "execution_count": 38,
   "metadata": {},
   "outputs": [
    {
     "name": "stdout",
     "output_type": "stream",
     "text": [
      "[1.0, -1.0, -1.0, -1.0, -1.0, -1.0, -1.0]\n",
      "85.71428571428571\n"
     ]
    }
   ],
   "source": [
    "prediction=[]\n",
    "for val in X_test:\n",
    "     prediction.append((sign(W.dot(val))))\n",
    "print(prediction)\n",
    "a=accuracy_score(y_test, prediction)\n",
    "print(a*100)"
   ]
  },
  {
   "cell_type": "code",
   "execution_count": 39,
   "metadata": {},
   "outputs": [
    {
     "data": {
      "text/plain": [
       "[<matplotlib.lines.Line2D at 0x1618dee4e20>]"
      ]
     },
     "execution_count": 39,
     "metadata": {},
     "output_type": "execute_result"
    },
    {
     "data": {
      "image/png": "[encoded data removed]",
      "text/plain": [
       "<Figure size 432x288 with 1 Axes>"
      ]
     },
     "metadata": {
      "needs_background": "light"
     },
     "output_type": "display_data"
    }
   ],
   "source": [
    "plt.plot(d_plot)"
   ]
  },
  {
   "cell_type": "markdown",
   "metadata": {},
   "source": [
    "### basic equation is : W2*X2+W1*X1+Wo=0\n",
    "* X1=(-W2*X2-Wo)/W1\n",
    "*  X2=(-W1*X1-Wo)/W2\n",
    "* At X1=0 -> X2=(-Wo/W2)  : 1st point (0,(-Wo/W2))\n",
    "* At X2=0 -> X1=(-Wo/W1) : 2nd point ((-Wo/W1),0)\n",
    "* **gradient =(y2-y2/x2-x1)**\n",
    "* ([(-Wo/W2)-0] / [0-(-Wo/W1)]) ->\n",
    "####  Wo/W2 - W1/Wo \n",
    "#### -W1/W2 "
   ]
  },
  {
   "cell_type": "code",
   "execution_count": 40,
   "metadata": {},
   "outputs": [
    {
     "data": {
      "text/plain": [
       "<matplotlib.collections.PathCollection at 0x1618dbeee20>"
      ]
     },
     "execution_count": 40,
     "metadata": {},
     "output_type": "execute_result"
    },
    {
     "data": {
      "image/png": "[encoded data removed]",
      "text/plain": [
       "<Figure size 648x432 with 1 Axes>"
      ]
     },
     "metadata": {
      "needs_background": "light"
     },
     "output_type": "display_data"
    }
   ],
   "source": [
    "# y = W[0]*x[:,0] + W[1]*x[:,1] line equation, no bias\n",
    "m = -(W[0]/W[1])  # slope = -w1/w2\n",
    "plt.figure(figsize=(9, 6))\n",
    "plt.plot(x[:,1] , m*x[:,1])\n",
    "plt.scatter(x[:,0],x[:,1],marker='o',c=y,s=25,edgecolor='k')"
   ]
  },
  {
   "cell_type": "code",
   "execution_count": 41,
   "metadata": {},
   "outputs": [],
   "source": [
    "# Testing the batch training model on data\n",
    "steps,W, epochs,d_plot=batchTrainingAlgo(X_train,y_train,weights)"
   ]
  },
  {
   "cell_type": "code",
   "execution_count": 42,
   "metadata": {},
   "outputs": [
    {
     "name": "stdout",
     "output_type": "stream",
     "text": [
      "Steps: 3 Weights: [0.03058642 0.49709558] Epochs: 3\n"
     ]
    }
   ],
   "source": [
    "print(\"Steps:\",steps,\"Weights:\",W,\"Epochs:\",epochs)"
   ]
  },
  {
   "cell_type": "code",
   "execution_count": 46,
   "metadata": {},
   "outputs": [
    {
     "name": "stdout",
     "output_type": "stream",
     "text": [
      "[1.0, -1.0, -1.0, -1.0, -1.0, -1.0, -1.0]\n",
      "85.71428571428571\n"
     ]
    }
   ],
   "source": [
    "prediction=[]\n",
    "for val in X_test:\n",
    "     prediction.append((sign(W.dot(val))))\n",
    "print(prediction)\n",
    "a=accuracy_score(y_test, prediction)\n",
    "print(a*100)"
   ]
  },
  {
   "cell_type": "code",
   "execution_count": 44,
   "metadata": {},
   "outputs": [
    {
     "data": {
      "text/plain": [
       "[<matplotlib.lines.Line2D at 0x1618df14d00>]"
      ]
     },
     "execution_count": 44,
     "metadata": {},
     "output_type": "execute_result"
    },
    {
     "data": {
      "image/png": "[encoded data removed]",
      "text/plain": [
       "<Figure size 432x288 with 1 Axes>"
      ]
     },
     "metadata": {
      "needs_background": "light"
     },
     "output_type": "display_data"
    }
   ],
   "source": [
    "plt.plot(d_plot)"
   ]
  },
  {
   "cell_type": "code",
   "execution_count": 45,
   "metadata": {},
   "outputs": [
    {
     "data": {
      "text/plain": [
       "<matplotlib.collections.PathCollection at 0x1618f00f910>"
      ]
     },
     "execution_count": 45,
     "metadata": {},
     "output_type": "execute_result"
    },
    {
     "data": {
      "image/png": "[encoded data removed]",
      "text/plain": [
       "<Figure size 648x432 with 1 Axes>"
      ]
     },
     "metadata": {
      "needs_background": "light"
     },
     "output_type": "display_data"
    }
   ],
   "source": [
    "# y = W[0]*x[:,0] + W[1]*x[:,1] line equation, no bias\n",
    "m = (W[0]/W[1])  # slope = w1/w2\n",
    "plt.figure(figsize=(9, 6))\n",
    "plt.plot(x[:,1] , m*x[:,1])\n",
    "plt.scatter(x[:,0],x[:,1],marker='o',c=y,s=25,edgecolor='k')\n"
   ]
  },
  {
   "cell_type": "code",
   "execution_count": null,
   "metadata": {},
   "outputs": [],
   "source": []
  }
 ],
 "metadata": {
  "kernelspec": {
   "display_name": "Python 3",
   "language": "python",
   "name": "python3"
  },
  "language_info": {
   "codemirror_mode": {
    "name": "ipython",
    "version": 3
   },
   "file_extension": ".py",
   "mimetype": "text/x-python",
   "name": "python",
   "nbconvert_exporter": "python",
   "pygments_lexer": "ipython3",
   "version": "3.6.5"
  },
  "widgets": {
   "application/vnd.jupyter.widget-state+json": {
    "state": {},
    "version_major": 2,
    "version_minor": 0
   }
  }
 },
 "nbformat": 4,
 "nbformat_minor": 4
}
