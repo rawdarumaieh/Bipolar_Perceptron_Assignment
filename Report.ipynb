{
 "cells": [
  {
   "cell_type": "markdown",
   "metadata": {},
   "source": [
    "# Pattern Recognition - Assignment 1\n",
    "### Students' Names:\n",
    "    Amira Noaman\n",
    "    Rawda Rumaieh "
   ]
  },
  {
   "cell_type": "markdown",
   "metadata": {},
   "source": [
    "## Batch Perceptron Algorithm\n",
    "### Description: \n",
    "- A perceptron is a linear classifier used for binary classification which divides the space into 2 partitions\n",
    "- Generally: the process is about getting the gradient at all points --> add them together --> update weighting coefficients\n",
    "- The batch training is a slow process because the update of the weighting coeff. vector happens after you iterate over all samples\n",
    "\n",
    " 1. The algorithm has the input of training samples X (features), Y (binary results 1,-1) and the learning rate (default = 1)\n",
    " 1. Weighting coefficient vector and delta vector is initialized with zeros and they have the same length as the # of features\n",
    " 1. Then for each point we calculate Weight.X (the prediction) and we check if the label matches the sign of prediction or not\n",
    " 1. If the sign mismatches, this indicates that the prediction was incorrect so we update the delta value until this delta value becomes so small which means it's not changing anymore\n",
    " 1. After all iterations are done we update the weights by subtracting the normalized delta obtained multiplied by learning rate\n",
    " 1. Finally we have the weight coefficients, the number of times required to update weights, the epochs & the delta values that will be plotted later\n",
    "\n",
    "\n",
    "## Online Training Algorithm\n",
    "### Description: \n",
    "- The online training algorithm has the same process and functions of the batch perceptron algorithm but it's faster \n",
    "- We update the weighting coefficient vector after each sample"
   ]
  },
  {
   "cell_type": "markdown",
   "metadata": {},
   "source": [
    "### Question 1 Output \n",
    "|                     | Epochs      | Steps to update weights | delta plot |\n",
    "|------------         | ----------- | ----------- | -------------|\n",
    "| **Online Training** | 58          | 175         |  ![Online Delta Plot Q1](d_online_q1.JPG \" DQ1\")|\n",
    "|**Batch Training**   | 2651         | 2651        |  ![Batch Delta Plot Q1](d_batch_q1.JPG \" DQ1\")|"
   ]
  },
  {
   "cell_type": "markdown",
   "metadata": {},
   "source": [
    "### Question 4 Output \n",
    "|                     | Epochs      | Steps to update weights | delta plot |\n",
    "|------------         | ----------- | ----------- | -------------|\n",
    "| **Online Training** | 5          | 9         |  ![Online Delta Plot Q4](d_online_q4.JPG \" DQ4\")|\n",
    "|**Batch Training**   | 6         | 6        |  ![Batch Delta Plot Q4](d_batch_q4.JPG \" DQ4\")|"
   ]
  },
  {
   "cell_type": "markdown",
   "metadata": {},
   "source": [
    "### Generated Data Output \n",
    "|                     | Epochs      | Steps to update weights | delta plot |\n",
    "|------------         | ----------- | ----------- | -------------|\n",
    "| **Online Training** | 3          | 15         |  ![Online Delta Plot generated](d_online_generated.JPG \" DG\")|\n",
    "|**Batch Training**   | 3         | 3        |  ![Batch Delta Plot generated](d_batch_generated.JPG \" DG\")|"
   ]
  },
  {
   "cell_type": "code",
   "execution_count": null,
   "metadata": {},
   "outputs": [],
   "source": []
  }
 ],
 "metadata": {
  "kernelspec": {
   "display_name": "Python 3",
   "language": "python",
   "name": "python3"
  },
  "language_info": {
   "codemirror_mode": {
    "name": "ipython",
    "version": 3
   },
   "file_extension": ".py",
   "mimetype": "text/x-python",
   "name": "python",
   "nbconvert_exporter": "python",
   "pygments_lexer": "ipython3",
   "version": "3.6.5"
  }
 },
 "nbformat": 4,
 "nbformat_minor": 2
}
